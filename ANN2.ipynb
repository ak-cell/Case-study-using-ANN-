{
 "cells": [
  {
   "cell_type": "markdown",
   "metadata": {},
   "source": [
    "# Case Study of diabetes patients using ANN"
   ]
  },
  {
   "cell_type": "code",
   "execution_count": 1,
   "metadata": {},
   "outputs": [],
   "source": [
    "#Import the libraries\n",
    "import numpy as np\n",
    "import matplotlib.pyplot as plt\n",
    "import pandas as pd\n",
    "import seaborn as sb"
   ]
  },
  {
   "cell_type": "code",
   "execution_count": 2,
   "metadata": {},
   "outputs": [
    {
     "data": {
      "text/html": [
       "<div>\n",
       "<style scoped>\n",
       "    .dataframe tbody tr th:only-of-type {\n",
       "        vertical-align: middle;\n",
       "    }\n",
       "\n",
       "    .dataframe tbody tr th {\n",
       "        vertical-align: top;\n",
       "    }\n",
       "\n",
       "    .dataframe thead th {\n",
       "        text-align: right;\n",
       "    }\n",
       "</style>\n",
       "<table border=\"1\" class=\"dataframe\">\n",
       "  <thead>\n",
       "    <tr style=\"text-align: right;\">\n",
       "      <th></th>\n",
       "      <th>Pregnancies</th>\n",
       "      <th>Glucose</th>\n",
       "      <th>BloodPressure</th>\n",
       "      <th>SkinThickness</th>\n",
       "      <th>Insulin</th>\n",
       "      <th>BMI</th>\n",
       "      <th>DiabetesPedigreeFunction</th>\n",
       "      <th>Age</th>\n",
       "      <th>Outcome</th>\n",
       "    </tr>\n",
       "  </thead>\n",
       "  <tbody>\n",
       "    <tr>\n",
       "      <th>0</th>\n",
       "      <td>6</td>\n",
       "      <td>148</td>\n",
       "      <td>72</td>\n",
       "      <td>35</td>\n",
       "      <td>0</td>\n",
       "      <td>33.6</td>\n",
       "      <td>0.627</td>\n",
       "      <td>50</td>\n",
       "      <td>1</td>\n",
       "    </tr>\n",
       "    <tr>\n",
       "      <th>1</th>\n",
       "      <td>1</td>\n",
       "      <td>85</td>\n",
       "      <td>66</td>\n",
       "      <td>29</td>\n",
       "      <td>0</td>\n",
       "      <td>26.6</td>\n",
       "      <td>0.351</td>\n",
       "      <td>31</td>\n",
       "      <td>0</td>\n",
       "    </tr>\n",
       "    <tr>\n",
       "      <th>2</th>\n",
       "      <td>8</td>\n",
       "      <td>183</td>\n",
       "      <td>64</td>\n",
       "      <td>0</td>\n",
       "      <td>0</td>\n",
       "      <td>23.3</td>\n",
       "      <td>0.672</td>\n",
       "      <td>32</td>\n",
       "      <td>1</td>\n",
       "    </tr>\n",
       "    <tr>\n",
       "      <th>3</th>\n",
       "      <td>1</td>\n",
       "      <td>89</td>\n",
       "      <td>66</td>\n",
       "      <td>23</td>\n",
       "      <td>94</td>\n",
       "      <td>28.1</td>\n",
       "      <td>0.167</td>\n",
       "      <td>21</td>\n",
       "      <td>0</td>\n",
       "    </tr>\n",
       "    <tr>\n",
       "      <th>4</th>\n",
       "      <td>0</td>\n",
       "      <td>137</td>\n",
       "      <td>40</td>\n",
       "      <td>35</td>\n",
       "      <td>168</td>\n",
       "      <td>43.1</td>\n",
       "      <td>2.288</td>\n",
       "      <td>33</td>\n",
       "      <td>1</td>\n",
       "    </tr>\n",
       "  </tbody>\n",
       "</table>\n",
       "</div>"
      ],
      "text/plain": [
       "   Pregnancies  Glucose  BloodPressure  SkinThickness  Insulin   BMI  \\\n",
       "0            6      148             72             35        0  33.6   \n",
       "1            1       85             66             29        0  26.6   \n",
       "2            8      183             64              0        0  23.3   \n",
       "3            1       89             66             23       94  28.1   \n",
       "4            0      137             40             35      168  43.1   \n",
       "\n",
       "   DiabetesPedigreeFunction  Age  Outcome  \n",
       "0                     0.627   50        1  \n",
       "1                     0.351   31        0  \n",
       "2                     0.672   32        1  \n",
       "3                     0.167   21        0  \n",
       "4                     2.288   33        1  "
      ]
     },
     "execution_count": 2,
     "metadata": {},
     "output_type": "execute_result"
    }
   ],
   "source": [
    "#Import the dataset\n",
    "data=pd.read_csv('C:/Users/aksha/Desktop/ai/datasets/diabetes.csv')\n",
    "data.head()"
   ]
  },
  {
   "cell_type": "code",
   "execution_count": 3,
   "metadata": {},
   "outputs": [
    {
     "data": {
      "text/plain": [
       "(768, 9)"
      ]
     },
     "execution_count": 3,
     "metadata": {},
     "output_type": "execute_result"
    }
   ],
   "source": [
    "data.shape"
   ]
  },
  {
   "cell_type": "code",
   "execution_count": 4,
   "metadata": {},
   "outputs": [
    {
     "data": {
      "text/plain": [
       "<matplotlib.axes._subplots.AxesSubplot at 0x2d79586e588>"
      ]
     },
     "execution_count": 4,
     "metadata": {},
     "output_type": "execute_result"
    },
    {
     "data": {
      "image/png": "[encoded data removed]",
      "text/plain": [
       "<Figure size 432x288 with 2 Axes>"
      ]
     },
     "metadata": {
      "needs_background": "light"
     },
     "output_type": "display_data"
    }
   ],
   "source": [
    "sb.heatmap(data.isnull())"
   ]
  },
  {
   "cell_type": "code",
   "execution_count": 5,
   "metadata": {},
   "outputs": [
    {
     "data": {
      "text/plain": [
       "Outcome\n",
       "0    [[AxesSubplot(0.125,0.670278;0.215278x0.209722...\n",
       "1    [[AxesSubplot(0.125,0.670278;0.215278x0.209722...\n",
       "dtype: object"
      ]
     },
     "execution_count": 5,
     "metadata": {},
     "output_type": "execute_result"
    },
    {
     "data": {
      "image/png": "[encoded data removed]",
      "text/plain": [
       "<Figure size 648x648 with 9 Axes>"
      ]
     },
     "metadata": {
      "needs_background": "light"
     },
     "output_type": "display_data"
    },
    {
     "data": {
      "image/png": "[encoded data removed]",
      "text/plain": [
       "<Figure size 648x648 with 9 Axes>"
      ]
     },
     "metadata": {
      "needs_background": "light"
     },
     "output_type": "display_data"
    }
   ],
   "source": [
    "data.groupby('Outcome').hist(figsize=(9,9))"
   ]
  },
  {
   "cell_type": "code",
   "execution_count": 6,
   "metadata": {},
   "outputs": [
    {
     "data": {
      "text/plain": [
       "<matplotlib.axes._subplots.AxesSubplot at 0x2d797aa07b8>"
      ]
     },
     "execution_count": 6,
     "metadata": {},
     "output_type": "execute_result"
    },
    {
     "data": {
      "image/png": "[encoded data removed]",
      "text/plain": [
       "<Figure size 432x288 with 1 Axes>"
      ]
     },
     "metadata": {
      "needs_background": "light"
     },
     "output_type": "display_data"
    }
   ],
   "source": [
    "#Countplot\n",
    "sb.countplot(x='Outcome',data=data)"
   ]
  },
  {
   "cell_type": "code",
   "execution_count": 7,
   "metadata": {},
   "outputs": [],
   "source": [
    "x=data.iloc[:,0:8].values\n",
    "y=data.iloc[:,8].values\n"
   ]
  },
  {
   "cell_type": "code",
   "execution_count": 8,
   "metadata": {},
   "outputs": [
    {
     "data": {
      "text/plain": [
       "array([[  6.   , 148.   ,  72.   , ...,  33.6  ,   0.627,  50.   ],\n",
       "       [  1.   ,  85.   ,  66.   , ...,  26.6  ,   0.351,  31.   ],\n",
       "       [  8.   , 183.   ,  64.   , ...,  23.3  ,   0.672,  32.   ],\n",
       "       ...,\n",
       "       [  5.   , 121.   ,  72.   , ...,  26.2  ,   0.245,  30.   ],\n",
       "       [  1.   , 126.   ,  60.   , ...,  30.1  ,   0.349,  47.   ],\n",
       "       [  1.   ,  93.   ,  70.   , ...,  30.4  ,   0.315,  23.   ]])"
      ]
     },
     "execution_count": 8,
     "metadata": {},
     "output_type": "execute_result"
    }
   ],
   "source": [
    "x"
   ]
  },
  {
   "cell_type": "code",
   "execution_count": 9,
   "metadata": {},
   "outputs": [
    {
     "data": {
      "text/plain": [
       "array([1, 0, 1, 0, 1, 0, 1, 0, 1, 1, 0, 1, 0, 1, 1, 1, 1, 1, 0, 1, 0, 0,\n",
       "       1, 1, 1, 1, 1, 0, 0, 0, 0, 1, 0, 0, 0, 0, 0, 1, 1, 1, 0, 0, 0, 1,\n",
       "       0, 1, 0, 0, 1, 0, 0, 0, 0, 1, 0, 0, 1, 0, 0, 0, 0, 1, 0, 0, 1, 0,\n",
       "       1, 0, 0, 0, 1, 0, 1, 0, 0, 0, 0, 0, 1, 0, 0, 0, 0, 0, 1, 0, 0, 0,\n",
       "       1, 0, 0, 0, 0, 1, 0, 0, 0, 0, 0, 1, 1, 0, 0, 0, 0, 0, 0, 0, 0, 1,\n",
       "       1, 1, 0, 0, 1, 1, 1, 0, 0, 0, 1, 0, 0, 0, 1, 1, 0, 0, 1, 1, 1, 1,\n",
       "       1, 0, 0, 0, 0, 0, 0, 0, 0, 0, 0, 1, 0, 0, 0, 0, 0, 0, 0, 0, 1, 0,\n",
       "       1, 1, 0, 0, 0, 1, 0, 0, 0, 0, 1, 1, 0, 0, 0, 0, 1, 1, 0, 0, 0, 1,\n",
       "       0, 1, 0, 1, 0, 0, 0, 0, 0, 1, 1, 1, 1, 1, 0, 0, 1, 1, 0, 1, 0, 1,\n",
       "       1, 1, 0, 0, 0, 0, 0, 0, 1, 1, 0, 1, 0, 0, 0, 1, 1, 1, 1, 0, 1, 1,\n",
       "       1, 1, 0, 0, 0, 0, 0, 1, 0, 0, 1, 1, 0, 0, 0, 1, 1, 1, 1, 0, 0, 0,\n",
       "       1, 1, 0, 1, 0, 0, 0, 0, 0, 0, 0, 0, 1, 1, 0, 0, 0, 1, 0, 1, 0, 0,\n",
       "       1, 0, 1, 0, 0, 1, 1, 0, 0, 0, 0, 0, 1, 0, 0, 0, 1, 0, 0, 1, 1, 0,\n",
       "       0, 1, 0, 0, 0, 1, 1, 1, 0, 0, 1, 0, 1, 0, 1, 1, 0, 1, 0, 0, 1, 0,\n",
       "       1, 1, 0, 0, 1, 0, 1, 0, 0, 1, 0, 1, 0, 1, 1, 1, 0, 0, 1, 0, 1, 0,\n",
       "       0, 0, 1, 0, 0, 0, 0, 1, 1, 1, 0, 0, 0, 0, 0, 0, 0, 0, 0, 1, 0, 0,\n",
       "       0, 0, 0, 1, 1, 1, 0, 1, 1, 0, 0, 1, 0, 0, 1, 0, 0, 1, 1, 0, 0, 0,\n",
       "       0, 1, 0, 0, 1, 0, 0, 0, 0, 0, 0, 0, 1, 1, 1, 0, 0, 1, 0, 0, 1, 0,\n",
       "       0, 1, 0, 1, 1, 0, 1, 0, 1, 0, 1, 0, 1, 1, 0, 0, 0, 0, 1, 1, 0, 1,\n",
       "       0, 1, 0, 0, 0, 0, 1, 1, 0, 1, 0, 1, 0, 0, 0, 0, 0, 1, 0, 0, 0, 0,\n",
       "       1, 0, 0, 1, 1, 1, 0, 0, 1, 0, 0, 1, 0, 0, 0, 1, 0, 0, 1, 0, 0, 0,\n",
       "       0, 0, 0, 0, 0, 0, 1, 0, 0, 0, 0, 0, 0, 0, 1, 0, 0, 0, 1, 0, 0, 0,\n",
       "       1, 1, 0, 0, 0, 0, 0, 0, 0, 1, 0, 0, 0, 0, 1, 0, 0, 0, 1, 0, 0, 0,\n",
       "       1, 0, 0, 0, 1, 0, 0, 0, 0, 1, 1, 0, 0, 0, 0, 0, 0, 1, 0, 0, 0, 0,\n",
       "       0, 0, 0, 0, 0, 0, 0, 1, 0, 0, 0, 1, 1, 1, 1, 0, 0, 1, 1, 0, 0, 0,\n",
       "       0, 0, 0, 0, 0, 0, 0, 0, 0, 0, 1, 1, 0, 0, 0, 0, 0, 0, 0, 1, 0, 0,\n",
       "       0, 0, 0, 0, 0, 1, 0, 1, 1, 0, 0, 0, 1, 0, 1, 0, 1, 0, 1, 0, 1, 0,\n",
       "       0, 1, 0, 0, 1, 0, 0, 0, 0, 1, 1, 0, 1, 0, 0, 0, 0, 1, 1, 0, 1, 0,\n",
       "       0, 0, 1, 1, 0, 0, 0, 0, 0, 0, 0, 0, 0, 0, 1, 0, 0, 0, 0, 1, 0, 0,\n",
       "       1, 0, 0, 0, 1, 0, 0, 0, 1, 1, 1, 0, 0, 0, 0, 0, 0, 1, 0, 0, 0, 1,\n",
       "       0, 1, 1, 1, 1, 0, 1, 1, 0, 0, 0, 0, 0, 0, 0, 1, 1, 0, 1, 0, 0, 1,\n",
       "       0, 1, 0, 0, 0, 0, 0, 1, 0, 1, 0, 1, 0, 1, 1, 0, 0, 0, 0, 1, 1, 0,\n",
       "       0, 0, 1, 0, 1, 1, 0, 0, 1, 0, 0, 1, 1, 0, 0, 1, 0, 0, 1, 0, 0, 0,\n",
       "       0, 0, 0, 0, 1, 1, 1, 0, 0, 0, 0, 0, 0, 1, 1, 0, 0, 1, 0, 0, 1, 0,\n",
       "       1, 1, 1, 0, 0, 1, 1, 1, 0, 1, 0, 1, 0, 1, 0, 0, 0, 0, 1, 0],\n",
       "      dtype=int64)"
      ]
     },
     "execution_count": 9,
     "metadata": {},
     "output_type": "execute_result"
    }
   ],
   "source": [
    "y"
   ]
  },
  {
   "cell_type": "code",
   "execution_count": 10,
   "metadata": {},
   "outputs": [],
   "source": [
    "#Splitting the dataset into train and test set\n",
    "from sklearn.model_selection import train_test_split\n",
    "x_train,x_test,y_train,y_test=train_test_split(x,y,test_size=0.2,random_state=0)"
   ]
  },
  {
   "cell_type": "code",
   "execution_count": 11,
   "metadata": {},
   "outputs": [],
   "source": [
    "#Feature scaling\n",
    "from sklearn.preprocessing import StandardScaler\n",
    "sc=StandardScaler()\n",
    "x_train=sc.fit_transform(x_train)\n",
    "x_test=sc.transform(x_test)"
   ]
  },
  {
   "cell_type": "code",
   "execution_count": 12,
   "metadata": {},
   "outputs": [
    {
     "data": {
      "text/plain": [
       "array([[-0.8354355 ,  2.45735903,  0.34674316, ...,  1.35224513,\n",
       "         2.78594417, -0.96569189],\n",
       "       [-0.54480808, -0.43719633,  0.24436264, ...,  0.17619533,\n",
       "        -0.1876381 , -0.88240283],\n",
       "       [ 0.03644676, -1.41253563, -0.36992051, ...,  0.22677812,\n",
       "        -0.22668514, -0.71582471],\n",
       "       ...,\n",
       "       [ 0.03644676,  0.66399321,  0.85864578, ...,  1.4913478 ,\n",
       "         0.53623395, -0.96569189],\n",
       "       [-0.25418066, -0.15403331,  0.24436264, ..., -0.74694053,\n",
       "        -1.07971278, -0.79911377],\n",
       "       [-0.8354355 , -0.43719633,  0.14198211, ..., -0.17788417,\n",
       "         1.06487079, -0.79911377]])"
      ]
     },
     "execution_count": 12,
     "metadata": {},
     "output_type": "execute_result"
    }
   ],
   "source": [
    "x_test"
   ]
  },
  {
   "cell_type": "code",
   "execution_count": 13,
   "metadata": {},
   "outputs": [
    {
     "name": "stderr",
     "output_type": "stream",
     "text": [
      "Using TensorFlow backend.\n"
     ]
    }
   ],
   "source": [
    "#import the keras libraries\n",
    "import keras\n",
    "from keras.models import Sequential\n",
    "from keras.layers import Dense"
   ]
  },
  {
   "cell_type": "code",
   "execution_count": 14,
   "metadata": {},
   "outputs": [
    {
     "name": "stdout",
     "output_type": "stream",
     "text": [
      "WARNING:tensorflow:From C:\\Users\\aksha\\Anaconda3\\lib\\site-packages\\tensorflow\\python\\framework\\op_def_library.py:263: colocate_with (from tensorflow.python.framework.ops) is deprecated and will be removed in a future version.\n",
      "Instructions for updating:\n",
      "Colocations handled automatically by placer.\n"
     ]
    }
   ],
   "source": [
    "#Initialising the ANN\n",
    "classifier=Sequential()\n",
    "#Adding the input and first hidden layer\n",
    "classifier.add(Dense(units=6,kernel_initializer='uniform',activation='relu',input_dim=8))\n",
    "#Adding the second hidden layer\n",
    "classifier.add(Dense(units=6,kernel_initializer='uniform',activation='relu'))\n",
    "#Adding the output layer\n",
    "classifier.add(Dense(units=1,kernel_initializer='uniform',activation='sigmoid'))\n",
    "#Compiling the ANN\n",
    "classifier.compile(optimizer='adam',loss='binary_crossentropy',metrics=['accuracy'])\n"
   ]
  },
  {
   "cell_type": "code",
   "execution_count": 15,
   "metadata": {},
   "outputs": [
    {
     "name": "stdout",
     "output_type": "stream",
     "text": [
      "WARNING:tensorflow:From C:\\Users\\aksha\\Anaconda3\\lib\\site-packages\\tensorflow\\python\\ops\\math_ops.py:3066: to_int32 (from tensorflow.python.ops.math_ops) is deprecated and will be removed in a future version.\n",
      "Instructions for updating:\n",
      "Use tf.cast instead.\n",
      "Epoch 1/100\n",
      "614/614 [==============================] - 4s 6ms/step - loss: 0.6883 - acc: 0.6401\n",
      "Epoch 2/100\n",
      "614/614 [==============================] - 0s 179us/step - loss: 0.6591 - acc: 0.6401\n",
      "Epoch 3/100\n",
      "614/614 [==============================] - 0s 182us/step - loss: 0.5940 - acc: 0.6401\n",
      "Epoch 4/100\n",
      "614/614 [==============================] - 0s 189us/step - loss: 0.5490 - acc: 0.6401\n",
      "Epoch 5/100\n",
      "614/614 [==============================] - 0s 203us/step - loss: 0.5337 - acc: 0.6401\n",
      "Epoch 6/100\n",
      "614/614 [==============================] - 0s 220us/step - loss: 0.5273 - acc: 0.6401\n",
      "Epoch 7/100\n",
      "614/614 [==============================] - 0s 215us/step - loss: 0.5226 - acc: 0.6401\n",
      "Epoch 8/100\n",
      "614/614 [==============================] - 0s 177us/step - loss: 0.5188 - acc: 0.6971\n",
      "Epoch 9/100\n",
      "614/614 [==============================] - 0s 173us/step - loss: 0.5166 - acc: 0.7655\n",
      "Epoch 10/100\n",
      "614/614 [==============================] - 0s 182us/step - loss: 0.5128 - acc: 0.7687\n",
      "Epoch 11/100\n",
      "614/614 [==============================] - 0s 171us/step - loss: 0.5109 - acc: 0.7720\n",
      "Epoch 12/100\n",
      "614/614 [==============================] - 0s 186us/step - loss: 0.5082 - acc: 0.7801\n",
      "Epoch 13/100\n",
      "614/614 [==============================] - 0s 199us/step - loss: 0.5061 - acc: 0.7736\n",
      "Epoch 14/100\n",
      "614/614 [==============================] - 0s 203us/step - loss: 0.5052 - acc: 0.7752\n",
      "Epoch 15/100\n",
      "614/614 [==============================] - 0s 186us/step - loss: 0.5029 - acc: 0.7736\n",
      "Epoch 16/100\n",
      "614/614 [==============================] - 0s 195us/step - loss: 0.5015 - acc: 0.7769\n",
      "Epoch 17/100\n",
      "614/614 [==============================] - 0s 199us/step - loss: 0.4996 - acc: 0.7752\n",
      "Epoch 18/100\n",
      "614/614 [==============================] - 0s 228us/step - loss: 0.4984 - acc: 0.7785\n",
      "Epoch 19/100\n",
      "614/614 [==============================] - 0s 223us/step - loss: 0.4979 - acc: 0.7736\n",
      "Epoch 20/100\n",
      "614/614 [==============================] - 0s 215us/step - loss: 0.4956 - acc: 0.7736\n",
      "Epoch 21/100\n",
      "614/614 [==============================] - 0s 254us/step - loss: 0.4943 - acc: 0.7687\n",
      "Epoch 22/100\n",
      "614/614 [==============================] - 0s 371us/step - loss: 0.4929 - acc: 0.7736\n",
      "Epoch 23/100\n",
      "614/614 [==============================] - 0s 267us/step - loss: 0.4920 - acc: 0.7687\n",
      "Epoch 24/100\n",
      "614/614 [==============================] - 0s 313us/step - loss: 0.4906 - acc: 0.7704\n",
      "Epoch 25/100\n",
      "614/614 [==============================] - 0s 322us/step - loss: 0.4893 - acc: 0.7720\n",
      "Epoch 26/100\n",
      "614/614 [==============================] - 0s 241us/step - loss: 0.4880 - acc: 0.7720\n",
      "Epoch 27/100\n",
      "614/614 [==============================] - 0s 212us/step - loss: 0.4870 - acc: 0.7671\n",
      "Epoch 28/100\n",
      "614/614 [==============================] - 0s 194us/step - loss: 0.4864 - acc: 0.7671\n",
      "Epoch 29/100\n",
      "614/614 [==============================] - 0s 213us/step - loss: 0.4843 - acc: 0.7736\n",
      "Epoch 30/100\n",
      "614/614 [==============================] - 0s 190us/step - loss: 0.4835 - acc: 0.7720\n",
      "Epoch 31/100\n",
      "614/614 [==============================] - 0s 200us/step - loss: 0.4828 - acc: 0.7720\n",
      "Epoch 32/100\n",
      "614/614 [==============================] - 0s 192us/step - loss: 0.4814 - acc: 0.7671\n",
      "Epoch 33/100\n",
      "614/614 [==============================] - 0s 192us/step - loss: 0.4807 - acc: 0.7720\n",
      "Epoch 34/100\n",
      "614/614 [==============================] - 0s 215us/step - loss: 0.4797 - acc: 0.7769\n",
      "Epoch 35/100\n",
      "614/614 [==============================] - 0s 212us/step - loss: 0.4790 - acc: 0.7736\n",
      "Epoch 36/100\n",
      "614/614 [==============================] - 0s 192us/step - loss: 0.4780 - acc: 0.7752\n",
      "Epoch 37/100\n",
      "614/614 [==============================] - 0s 194us/step - loss: 0.4772 - acc: 0.7704\n",
      "Epoch 38/100\n",
      "614/614 [==============================] - 0s 210us/step - loss: 0.4756 - acc: 0.7769\n",
      "Epoch 39/100\n",
      "614/614 [==============================] - 0s 213us/step - loss: 0.4754 - acc: 0.7785\n",
      "Epoch 40/100\n",
      "614/614 [==============================] - 0s 192us/step - loss: 0.4736 - acc: 0.7769\n",
      "Epoch 41/100\n",
      "614/614 [==============================] - 0s 223us/step - loss: 0.4734 - acc: 0.7752\n",
      "Epoch 42/100\n",
      "614/614 [==============================] - 0s 230us/step - loss: 0.4728 - acc: 0.7736\n",
      "Epoch 43/100\n",
      "614/614 [==============================] - 0s 269us/step - loss: 0.4715 - acc: 0.7752\n",
      "Epoch 44/100\n",
      "614/614 [==============================] - 0s 230us/step - loss: 0.4705 - acc: 0.7801\n",
      "Epoch 45/100\n",
      "614/614 [==============================] - 0s 270us/step - loss: 0.4698 - acc: 0.7801\n",
      "Epoch 46/100\n",
      "614/614 [==============================] - 0s 257us/step - loss: 0.4683 - acc: 0.7834\n",
      "Epoch 47/100\n",
      "614/614 [==============================] - 0s 247us/step - loss: 0.4678 - acc: 0.7850\n",
      "Epoch 48/100\n",
      "614/614 [==============================] - 0s 210us/step - loss: 0.4675 - acc: 0.7818\n",
      "Epoch 49/100\n",
      "614/614 [==============================] - 0s 246us/step - loss: 0.4669 - acc: 0.7818\n",
      "Epoch 50/100\n",
      "614/614 [==============================] - 0s 226us/step - loss: 0.4667 - acc: 0.7818\n",
      "Epoch 51/100\n",
      "614/614 [==============================] - 0s 230us/step - loss: 0.4656 - acc: 0.7866\n",
      "Epoch 52/100\n",
      "614/614 [==============================] - 0s 195us/step - loss: 0.4652 - acc: 0.7785\n",
      "Epoch 53/100\n",
      "614/614 [==============================] - 0s 199us/step - loss: 0.4642 - acc: 0.7850\n",
      "Epoch 54/100\n",
      "614/614 [==============================] - 0s 194us/step - loss: 0.4628 - acc: 0.7866\n",
      "Epoch 55/100\n",
      "614/614 [==============================] - 0s 192us/step - loss: 0.4621 - acc: 0.7866\n",
      "Epoch 56/100\n",
      "614/614 [==============================] - 0s 216us/step - loss: 0.4617 - acc: 0.7834\n",
      "Epoch 57/100\n",
      "614/614 [==============================] - 0s 199us/step - loss: 0.4613 - acc: 0.7818\n",
      "Epoch 58/100\n",
      "614/614 [==============================] - 0s 200us/step - loss: 0.4604 - acc: 0.7818\n",
      "Epoch 59/100\n",
      "614/614 [==============================] - 0s 208us/step - loss: 0.4601 - acc: 0.7883\n",
      "Epoch 60/100\n",
      "614/614 [==============================] - 0s 189us/step - loss: 0.4596 - acc: 0.7834\n",
      "Epoch 61/100\n",
      "614/614 [==============================] - 0s 207us/step - loss: 0.4591 - acc: 0.7866\n",
      "Epoch 62/100\n",
      "614/614 [==============================] - 0s 207us/step - loss: 0.4584 - acc: 0.7850\n",
      "Epoch 63/100\n",
      "614/614 [==============================] - 0s 202us/step - loss: 0.4578 - acc: 0.7850\n",
      "Epoch 64/100\n",
      "614/614 [==============================] - 0s 207us/step - loss: 0.4576 - acc: 0.7850\n",
      "Epoch 65/100\n",
      "614/614 [==============================] - 0s 218us/step - loss: 0.4572 - acc: 0.7883\n",
      "Epoch 66/100\n",
      "614/614 [==============================] - 0s 233us/step - loss: 0.4570 - acc: 0.7818\n",
      "Epoch 67/100\n",
      "614/614 [==============================] - 0s 231us/step - loss: 0.4561 - acc: 0.7866\n",
      "Epoch 68/100\n",
      "614/614 [==============================] - 0s 225us/step - loss: 0.4554 - acc: 0.7866\n",
      "Epoch 69/100\n",
      "614/614 [==============================] - 0s 207us/step - loss: 0.4557 - acc: 0.7850\n",
      "Epoch 70/100\n",
      "614/614 [==============================] - 0s 243us/step - loss: 0.4543 - acc: 0.7834 0s - loss: 0.4431 - acc: 0.785\n",
      "Epoch 71/100\n",
      "614/614 [==============================] - ETA: 0s - loss: 0.4553 - acc: 0.789 - 0s 230us/step - loss: 0.4538 - acc: 0.7899\n",
      "Epoch 72/100\n",
      "614/614 [==============================] - 0s 244us/step - loss: 0.4540 - acc: 0.7834\n",
      "Epoch 73/100\n",
      "614/614 [==============================] - 0s 234us/step - loss: 0.4531 - acc: 0.7899\n",
      "Epoch 74/100\n",
      "614/614 [==============================] - 0s 236us/step - loss: 0.4521 - acc: 0.7915\n",
      "Epoch 75/100\n",
      "614/614 [==============================] - 0s 244us/step - loss: 0.4519 - acc: 0.7883\n",
      "Epoch 76/100\n",
      "614/614 [==============================] - 0s 246us/step - loss: 0.4519 - acc: 0.7883\n",
      "Epoch 77/100\n",
      "614/614 [==============================] - 0s 233us/step - loss: 0.4522 - acc: 0.7899\n",
      "Epoch 78/100\n",
      "614/614 [==============================] - 0s 228us/step - loss: 0.4506 - acc: 0.7899\n",
      "Epoch 79/100\n",
      "614/614 [==============================] - 0s 236us/step - loss: 0.4499 - acc: 0.7883\n",
      "Epoch 80/100\n",
      "614/614 [==============================] - 0s 234us/step - loss: 0.4510 - acc: 0.7883\n",
      "Epoch 81/100\n",
      "614/614 [==============================] - 0s 233us/step - loss: 0.4497 - acc: 0.7915\n",
      "Epoch 82/100\n",
      "614/614 [==============================] - 0s 199us/step - loss: 0.4499 - acc: 0.7948\n",
      "Epoch 83/100\n",
      "614/614 [==============================] - 0s 177us/step - loss: 0.4497 - acc: 0.7915\n",
      "Epoch 84/100\n",
      "614/614 [==============================] - 0s 192us/step - loss: 0.4491 - acc: 0.7899\n",
      "Epoch 85/100\n",
      "614/614 [==============================] - 0s 177us/step - loss: 0.4485 - acc: 0.7915\n",
      "Epoch 86/100\n",
      "614/614 [==============================] - 0s 230us/step - loss: 0.4480 - acc: 0.7932\n",
      "Epoch 87/100\n",
      "614/614 [==============================] - 0s 231us/step - loss: 0.4490 - acc: 0.7964\n",
      "Epoch 88/100\n",
      "614/614 [==============================] - 0s 226us/step - loss: 0.4475 - acc: 0.7915\n",
      "Epoch 89/100\n",
      "614/614 [==============================] - 0s 223us/step - loss: 0.4475 - acc: 0.7932\n",
      "Epoch 90/100\n",
      "614/614 [==============================] - 0s 233us/step - loss: 0.4475 - acc: 0.7883\n",
      "Epoch 91/100\n",
      "614/614 [==============================] - 0s 247us/step - loss: 0.4472 - acc: 0.7948\n",
      "Epoch 92/100\n",
      "614/614 [==============================] - 0s 218us/step - loss: 0.4465 - acc: 0.7932\n",
      "Epoch 93/100\n",
      "614/614 [==============================] - 0s 239us/step - loss: 0.4464 - acc: 0.7997\n",
      "Epoch 94/100\n",
      "614/614 [==============================] - 0s 226us/step - loss: 0.4462 - acc: 0.7932\n",
      "Epoch 95/100\n",
      "614/614 [==============================] - 0s 213us/step - loss: 0.4450 - acc: 0.7932\n",
      "Epoch 96/100\n",
      "614/614 [==============================] - 0s 246us/step - loss: 0.4459 - acc: 0.7964\n",
      "Epoch 97/100\n",
      "614/614 [==============================] - 0s 262us/step - loss: 0.4453 - acc: 0.7980\n",
      "Epoch 98/100\n",
      "614/614 [==============================] - 0s 244us/step - loss: 0.4444 - acc: 0.7980\n",
      "Epoch 99/100\n",
      "614/614 [==============================] - 0s 256us/step - loss: 0.4446 - acc: 0.7932\n",
      "Epoch 100/100\n",
      "614/614 [==============================] - 0s 238us/step - loss: 0.4457 - acc: 0.7948\n"
     ]
    },
    {
     "data": {
      "text/plain": [
       "<keras.callbacks.History at 0x2d79e4c7b38>"
      ]
     },
     "execution_count": 15,
     "metadata": {},
     "output_type": "execute_result"
    }
   ],
   "source": [
    "#Fitting the ANN to the training set\n",
    "classifier.fit(x_train,y_train,batch_size=10,epochs=100)"
   ]
  },
  {
   "cell_type": "code",
   "execution_count": 16,
   "metadata": {},
   "outputs": [],
   "source": [
    "y_pred=classifier.predict(x_test)\n",
    "y_pred=(y_pred>0.5)"
   ]
  },
  {
   "cell_type": "code",
   "execution_count": 17,
   "metadata": {},
   "outputs": [
    {
     "name": "stdout",
     "output_type": "stream",
     "text": [
      "accuracy score: 0.7857142857142857\n"
     ]
    }
   ],
   "source": [
    "#Accuracy score\n",
    "from sklearn.metrics import accuracy_score\n",
    "print('accuracy score:',accuracy_score(y_test,y_pred))"
   ]
  },
  {
   "cell_type": "code",
   "execution_count": 18,
   "metadata": {},
   "outputs": [
    {
     "data": {
      "text/plain": [
       "array([[ True],\n",
       "       [False],\n",
       "       [False],\n",
       "       [ True],\n",
       "       [False],\n",
       "       [False],\n",
       "       [ True],\n",
       "       [ True],\n",
       "       [False],\n",
       "       [False],\n",
       "       [ True],\n",
       "       [ True],\n",
       "       [False],\n",
       "       [False],\n",
       "       [False],\n",
       "       [False],\n",
       "       [ True],\n",
       "       [False],\n",
       "       [False],\n",
       "       [False],\n",
       "       [ True],\n",
       "       [False],\n",
       "       [False],\n",
       "       [False],\n",
       "       [False],\n",
       "       [False],\n",
       "       [False],\n",
       "       [ True],\n",
       "       [False],\n",
       "       [False],\n",
       "       [False],\n",
       "       [False],\n",
       "       [False],\n",
       "       [ True],\n",
       "       [False],\n",
       "       [ True],\n",
       "       [False],\n",
       "       [False],\n",
       "       [False],\n",
       "       [ True],\n",
       "       [False],\n",
       "       [False],\n",
       "       [False],\n",
       "       [ True],\n",
       "       [ True],\n",
       "       [False],\n",
       "       [False],\n",
       "       [False],\n",
       "       [False],\n",
       "       [False],\n",
       "       [False],\n",
       "       [False],\n",
       "       [ True],\n",
       "       [ True],\n",
       "       [False],\n",
       "       [False],\n",
       "       [False],\n",
       "       [False],\n",
       "       [False],\n",
       "       [False],\n",
       "       [ True],\n",
       "       [ True],\n",
       "       [False],\n",
       "       [ True],\n",
       "       [ True],\n",
       "       [ True],\n",
       "       [ True],\n",
       "       [False],\n",
       "       [False],\n",
       "       [False],\n",
       "       [False],\n",
       "       [False],\n",
       "       [False],\n",
       "       [ True],\n",
       "       [ True],\n",
       "       [False],\n",
       "       [False],\n",
       "       [ True],\n",
       "       [False],\n",
       "       [False],\n",
       "       [False],\n",
       "       [False],\n",
       "       [False],\n",
       "       [False],\n",
       "       [False],\n",
       "       [False],\n",
       "       [False],\n",
       "       [ True],\n",
       "       [ True],\n",
       "       [False],\n",
       "       [False],\n",
       "       [False],\n",
       "       [False],\n",
       "       [False],\n",
       "       [ True],\n",
       "       [False],\n",
       "       [False],\n",
       "       [ True],\n",
       "       [ True],\n",
       "       [False],\n",
       "       [False],\n",
       "       [False],\n",
       "       [False],\n",
       "       [False],\n",
       "       [ True],\n",
       "       [False],\n",
       "       [False],\n",
       "       [False],\n",
       "       [False],\n",
       "       [ True],\n",
       "       [False],\n",
       "       [False],\n",
       "       [ True],\n",
       "       [ True],\n",
       "       [False],\n",
       "       [ True],\n",
       "       [False],\n",
       "       [ True],\n",
       "       [False],\n",
       "       [ True],\n",
       "       [False],\n",
       "       [False],\n",
       "       [False],\n",
       "       [False],\n",
       "       [False],\n",
       "       [False],\n",
       "       [False],\n",
       "       [ True],\n",
       "       [ True],\n",
       "       [False],\n",
       "       [False],\n",
       "       [False],\n",
       "       [False],\n",
       "       [ True],\n",
       "       [False],\n",
       "       [False],\n",
       "       [False],\n",
       "       [False],\n",
       "       [ True],\n",
       "       [False],\n",
       "       [False],\n",
       "       [ True],\n",
       "       [False],\n",
       "       [False],\n",
       "       [False],\n",
       "       [False],\n",
       "       [False],\n",
       "       [False],\n",
       "       [False],\n",
       "       [False],\n",
       "       [False],\n",
       "       [False],\n",
       "       [False],\n",
       "       [False]])"
      ]
     },
     "execution_count": 18,
     "metadata": {},
     "output_type": "execute_result"
    }
   ],
   "source": [
    "y_pred"
   ]
  },
  {
   "cell_type": "code",
   "execution_count": null,
   "metadata": {},
   "outputs": [],
   "source": []
  }
 ],
 "metadata": {
  "kernelspec": {
   "display_name": "Python 3",
   "language": "python",
   "name": "python3"
  },
  "language_info": {
   "codemirror_mode": {
    "name": "ipython",
    "version": 3
   },
   "file_extension": ".py",
   "mimetype": "text/x-python",
   "name": "python",
   "nbconvert_exporter": "python",
   "pygments_lexer": "ipython3",
   "version": "3.6.5"
  }
 },
 "nbformat": 4,
 "nbformat_minor": 2
}
